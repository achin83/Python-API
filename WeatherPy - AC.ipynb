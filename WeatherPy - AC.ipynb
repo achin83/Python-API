{
 "cells": [
  {
   "cell_type": "markdown",
   "metadata": {},
   "source": [
    "# WeatherPy\n",
    "----\n",
    "\n",
    "### Analysis\n",
    "* As expected, the weather becomes significantly warmer as one approaches the equator (0 Deg. Latitude). More interestingly, however, is the fact that the southern hemisphere tends to be warmer this time of year than the northern hemisphere. This may be due to the tilt of the earth.\n",
    "* There is no strong relationship between latitude and cloudiness. However, it is interesting to see that a strong band of cities sits at 0, 80, and 100% cloudiness.\n",
    "* There is no strong relationship between latitude and wind speed. However, in northern hemispheres there is a flurry of cities with over 20 mph of wind.\n",
    "\n",
    "---\n",
    "\n",
    "#### Note\n",
    "* Instructions have been included for each segment. You do not have to follow them exactly, but they are included to help you think through the steps."
   ]
  },
  {
   "cell_type": "code",
   "execution_count": 1,
   "metadata": {
    "scrolled": true
   },
   "outputs": [],
   "source": [
    "# Dependencies and Setup\n",
    "import matplotlib.pyplot as plt\n",
    "import pandas as pd\n",
    "import numpy as np\n",
    "import requests\n",
    "import time\n",
    "from pprint import pprint\n",
    "import openweathermapy as owm\n",
    "import urllib\n",
    "import csv\n",
    "\n",
    "# Import API key\n",
    "from api_keys import api_key\n",
    "\n",
    "#use time.sleep(5) for pausing between API requests so that we don't overload processes\n",
    "\n",
    "# Incorporated citipy to determine city based on latitude and longitude\n",
    "from citipy import citipy\n",
    "\n",
    "# Output File (CSV)\n",
    "#output_data_file = \"output_data/cities.csv\"\n",
    "\n",
    "# Range of latitudes and longitudes\n",
    "lat_range = (-90, 90)\n",
    "lng_range = (-180, 180)"
   ]
  },
  {
   "cell_type": "markdown",
   "metadata": {},
   "source": [
    "## Generate Cities List"
   ]
  },
  {
   "cell_type": "code",
   "execution_count": 2,
   "metadata": {},
   "outputs": [
    {
     "name": "stdout",
     "output_type": "stream",
     "text": [
      "590\n"
     ]
    }
   ],
   "source": [
    "# List for holding lat_lngs and cities\n",
    "lat_lngs = []\n",
    "cities = []\n",
    "\n",
    "# Create a set of random lat and lng combinations\n",
    "lats = np.random.uniform(low=-90.000, high=90.000, size=1500)\n",
    "lngs = np.random.uniform(low=-180.000, high=180.000, size=1500)\n",
    "lat_lngs = zip(lats, lngs)\n",
    "\n",
    "# Identify nearest city for each lat, lng combination\n",
    "for lat_lng in lat_lngs:\n",
    "    city = citipy.nearest_city(lat_lng[0], lat_lng[1]).city_name\n",
    "    \n",
    "    # If the city is unique, then add it to a our cities list\n",
    "    if city not in cities:\n",
    "        cities.append(city)\n",
    "\n",
    "#The code above will pick 1500 random latitude and 1500 random longitude coordinates \n",
    "#between the defined ranges and the closest city using numpy randomizer.  Distinct cities\n",
    "#will be added to the list based on the (if city not in cities) condition.\n",
    "\n",
    "#Just checking the output of lat/lng zip to understand data\n",
    "#lat_lngs_df = pd.DataFrame(list(zip(lats, lngs)))\n",
    "#lat_lngs_df\n",
    "\n",
    "print(len(cities))"
   ]
  },
  {
   "cell_type": "code",
   "execution_count": 3,
   "metadata": {},
   "outputs": [
    {
     "name": "stdout",
     "output_type": "stream",
     "text": [
      "{'base': 'stations',\n",
      " 'clouds': {'all': 40},\n",
      " 'cod': 200,\n",
      " 'coord': {'lat': 47.66, 'lon': -52.73},\n",
      " 'dt': 1537668000,\n",
      " 'id': 6167817,\n",
      " 'main': {'humidity': 81,\n",
      "          'pressure': 1012,\n",
      "          'temp': 48.2,\n",
      "          'temp_max': 48.2,\n",
      "          'temp_min': 48.2},\n",
      " 'name': 'Torbay',\n",
      " 'sys': {'country': 'CA',\n",
      "         'id': 3467,\n",
      "         'message': 0.0067,\n",
      "         'sunrise': 1537694346,\n",
      "         'sunset': 1537737989,\n",
      "         'type': 1},\n",
      " 'visibility': 24140,\n",
      " 'weather': [{'description': 'scattered clouds',\n",
      "              'icon': '03n',\n",
      "              'id': 802,\n",
      "              'main': 'Clouds'}],\n",
      " 'wind': {'deg': 310, 'gust': 10.3, 'speed': 12.75}}\n",
      "{'base': 'stations',\n",
      " 'clouds': {'all': 8},\n",
      " 'cod': 200,\n",
      " 'coord': {'lat': 12.49, 'lon': -16.54},\n",
      " 'dt': 1537671125,\n",
      " 'id': 2246901,\n",
      " 'main': {'grnd_level': 1024.37,\n",
      "          'humidity': 99,\n",
      "          'pressure': 1024.37,\n",
      "          'sea_level': 1024.98,\n",
      "          'temp': 81.17,\n",
      "          'temp_max': 81.17,\n",
      "          'temp_min': 81.17},\n",
      " 'name': 'Oussouye',\n",
      " 'sys': {'country': 'SN',\n",
      "         'message': 0.0034,\n",
      "         'sunrise': 1537685717,\n",
      "         'sunset': 1537729292},\n",
      " 'weather': [{'description': 'clear sky',\n",
      "              'icon': '02n',\n",
      "              'id': 800,\n",
      "              'main': 'Clear'}],\n",
      " 'wind': {'deg': 248.006, 'speed': 9.44}}\n",
      "{'base': 'stations',\n",
      " 'clouds': {'all': 75},\n",
      " 'cod': 200,\n",
      " 'coord': {'lat': 58.89, 'lon': 5.65},\n",
      " 'dt': 1537669200,\n",
      " 'id': 3137942,\n",
      " 'main': {'humidity': 81,\n",
      "          'pressure': 1006,\n",
      "          'temp': 49.21,\n",
      "          'temp_max': 50,\n",
      "          'temp_min': 48.2},\n",
      " 'name': 'Sola',\n",
      " 'sys': {'country': 'NO',\n",
      "         'id': 5343,\n",
      "         'message': 0.0038,\n",
      "         'sunrise': 1537680245,\n",
      "         'sunset': 1537724047,\n",
      "         'type': 1},\n",
      " 'visibility': 10000,\n",
      " 'weather': [{'description': 'light rain',\n",
      "              'icon': '10n',\n",
      "              'id': 500,\n",
      "              'main': 'Rain'}],\n",
      " 'wind': {'deg': 300, 'speed': 21.92}}\n"
     ]
    }
   ],
   "source": [
    "#Define base URL, units, and a query URL that adds on the API key and unit of measure.\n",
    "#city added to URL later when looping through city list\n",
    "url = \"http://api.openweathermap.org/data/2.5/weather?\"\n",
    "\n",
    "#I use imperial for charting purposes.  There is a greater variance in numbers which should\n",
    "#illustrate a more meaningful chart - also, I understand F better than C (temp)\n",
    "units = \"Imperial\"\n",
    "query_url = f\"{url}appid={api_key}&units={units}&q=\"\n",
    "\n",
    "#test output of JSON city requests\n",
    "#print 3 results just for a preview\n",
    "#use time.sleep() to pause between requests\n",
    "counter = 0\n",
    "for city in cities:\n",
    "    response = requests.get(query_url + city).json()\n",
    "    pprint(response)\n",
    "    counter += 1\n",
    "    time.sleep(1)\n",
    "    if counter == 3:\n",
    "        break\n",
    "\n",
    "#I noticeded that there is a \"city not found\" error \n",
    "#{'cod': '404', 'message': 'city not found'}"
   ]
  },
  {
   "cell_type": "code",
   "execution_count": 4,
   "metadata": {},
   "outputs": [
    {
     "name": "stdout",
     "output_type": "stream",
     "text": [
      "http://api.openweathermap.org/data/2.5/weather?appid=0c7809d55303f1644e7ea61b6ed8ea9c&units=Imperial&q=sola\n"
     ]
    }
   ],
   "source": [
    "#preview of constructed query URL + city\n",
    "#URL = OK\n",
    "print(query_url + city)"
   ]
  },
  {
   "cell_type": "code",
   "execution_count": null,
   "metadata": {},
   "outputs": [
    {
     "name": "stdout",
     "output_type": "stream",
     "text": [
      "torbay (Set: 1, Item: 1)\n",
      "oussouye (Set: 1, Item: 2)\n",
      "sola (Set: 1, Item: 3)\n",
      "****illoqqortoormiut not found.  Skipping...\n",
      "albany (Set: 1, Item: 4)\n",
      "marquard (Set: 1, Item: 5)\n",
      "cape town (Set: 1, Item: 6)\n",
      "rikitea (Set: 1, Item: 7)\n",
      "****amderma not found.  Skipping...\n",
      "upernavik (Set: 1, Item: 8)\n",
      "ushuaia (Set: 1, Item: 9)\n",
      "barrow (Set: 1, Item: 10)\n",
      "adrar (Set: 1, Item: 11)\n",
      "arraial do cabo (Set: 1, Item: 12)\n",
      "vao (Set: 1, Item: 13)\n",
      "genhe (Set: 1, Item: 14)\n",
      "bambous virieux (Set: 1, Item: 15)\n",
      "jacareacanga (Set: 1, Item: 16)\n",
      "kapaa (Set: 1, Item: 17)\n",
      "vaini (Set: 1, Item: 18)\n",
      "****haibowan not found.  Skipping...\n",
      "plouzane (Set: 1, Item: 19)\n",
      "atuona (Set: 1, Item: 20)\n",
      "jamestown (Set: 1, Item: 21)\n",
      "kloulklubed (Set: 1, Item: 22)\n",
      "bilma (Set: 1, Item: 23)\n",
      "****attawapiskat not found.  Skipping...\n",
      "busselton (Set: 1, Item: 24)\n",
      "****taolanaro not found.  Skipping...\n",
      "punta arenas (Set: 1, Item: 25)\n",
      "****barentsburg not found.  Skipping...\n",
      "goure (Set: 1, Item: 26)\n",
      "****mys shmidta not found.  Skipping...\n",
      "vila franca do campo (Set: 1, Item: 27)\n",
      "butaritari (Set: 1, Item: 28)\n",
      "anadyr (Set: 1, Item: 29)\n",
      "pervomayskoye (Set: 1, Item: 30)\n",
      "westport (Set: 1, Item: 31)\n",
      "srednekolymsk (Set: 1, Item: 32)\n",
      "bedele (Set: 1, Item: 33)\n",
      "longyearbyen (Set: 1, Item: 34)\n",
      "****grand river south east not found.  Skipping...\n",
      "sabang (Set: 1, Item: 35)\n",
      "thompson (Set: 1, Item: 36)\n",
      "canutama (Set: 1, Item: 37)\n",
      "santa fe (Set: 1, Item: 38)\n",
      "****asau not found.  Skipping...\n",
      "new norfolk (Set: 1, Item: 39)\n",
      "qaanaaq (Set: 1, Item: 40)\n",
      "lompoc (Set: 1, Item: 41)\n",
      "castro (Set: 1, Item: 42)\n",
      "san patricio (Set: 1, Item: 43)\n",
      "lebu (Set: 1, Item: 44)\n",
      "murgab (Set: 1, Item: 45)\n",
      "souillac (Set: 1, Item: 46)\n",
      "yellowknife (Set: 1, Item: 47)\n",
      "hilo (Set: 1, Item: 48)\n",
      "hobart (Set: 1, Item: 49)\n",
      "maniitsoq (Set: 1, Item: 50)\n",
      "manuk mangkaw (Set: 2, Item: 1)\n",
      "puerto del rosario (Set: 2, Item: 2)\n",
      "****meyungs not found.  Skipping...\n",
      "saskylakh (Set: 2, Item: 3)\n",
      "kutum (Set: 2, Item: 4)\n",
      "palmer (Set: 2, Item: 5)\n",
      "kieta (Set: 2, Item: 6)\n",
      "****maridi not found.  Skipping...\n",
      "necochea (Set: 2, Item: 7)\n",
      "killarney (Set: 2, Item: 8)\n",
      "bluff (Set: 2, Item: 9)\n",
      "makakilo city (Set: 2, Item: 10)\n",
      "port alfred (Set: 2, Item: 11)\n",
      "lerwick (Set: 2, Item: 12)\n",
      "teya (Set: 2, Item: 13)\n"
     ]
    }
   ],
   "source": [
    "#!!!WARNING!!! RUNNING THIS BLOCK TAKES A LONG TIME\n",
    "\n",
    "#prepare empty list to hold city info values\n",
    "city_data = []\n",
    "\n",
    "#for printing counts\n",
    "limit = 0\n",
    "set_var = 1\n",
    "item_var = 1\n",
    "\n",
    "##Perform API Calls\n",
    "##Perform a weather check on each city using a series of successive API calls.\n",
    "##Include a print log of each city as it'sbeing processed (with the city number and city name).\n",
    "\n",
    "#loop through cities to extract information about all the ~500 random cities\n",
    "#impose try/except for anomalies\n",
    "for city in cities:\n",
    "    try:\n",
    "        # add city to query URL to get JSON data as tested above\n",
    "        response = requests.get(query_url + city).json()\n",
    "        city_name = response[\"name\"]\n",
    "        city_lat = response[\"coord\"][\"lat\"]\n",
    "        city_lng = response[\"coord\"][\"lon\"]\n",
    "        city_max_temp = response[\"main\"][\"temp_max\"]\n",
    "        city_humidity = response[\"main\"][\"humidity\"]\n",
    "        city_clouds = response[\"clouds\"][\"all\"]\n",
    "        city_wind = response[\"wind\"][\"speed\"]\n",
    "        city_country = response[\"sys\"][\"country\"]\n",
    "        city_date = response[\"dt\"]\n",
    "        # Append the City information into city_data list\n",
    "        city_data.append({\"City\": city_name, \n",
    "                          \"Latitude\": city_lat, \n",
    "                          \"Longitude\": city_lng, \n",
    "                          \"Max Temperature\": city_max_temp,\n",
    "                          \"Humidity\": city_humidity,\n",
    "                          \"Cloudiness\": city_clouds,\n",
    "                          \"Wind Speed\": city_wind,\n",
    "                          \"Country\": city_country,\n",
    "                          \"Date\": city_date})\n",
    "        if item_var < 51:\n",
    "            print(f'{city} (Set: {set_var}, Item: {item_var})') \n",
    "            item_var += 1\n",
    "        else:\n",
    "            set_var += 1\n",
    "            item_var = 1\n",
    "        time.sleep(1)\n",
    "    # If city not found, skip to next record\n",
    "    except:\n",
    "        print(f'****{city} not found.  Skipping...')\n",
    "#    limit += 1\n",
    "#    if limit == 600:\n",
    "#        break"
   ]
  },
  {
   "cell_type": "raw",
   "metadata": {},
   "source": [
    "### Convert Raw Data to DataFrame\n",
    "* Export the city data into a .csv.\n",
    "* Display the DataFrame"
   ]
  },
  {
   "cell_type": "code",
   "execution_count": null,
   "metadata": {},
   "outputs": [],
   "source": [
    "# Create CSV file\n",
    "with open('output_data/cities.csv', 'w', newline='') as csvfile:\n",
    "     fields = ['City', 'Latitude', 'Longitude', 'Max Temperature', 'Humidity', 'Cloudiness', 'Wind Speed', 'Country', 'Date']\n",
    "     writer = csv.DictWriter(csvfile, fieldnames=fields)\n",
    "     writer.writeheader()\n",
    "     for x in city_data:\n",
    "         writer.writerow(x)\n",
    "            \n",
    "print(csvfile)"
   ]
  },
  {
   "cell_type": "code",
   "execution_count": null,
   "metadata": {},
   "outputs": [],
   "source": [
    "#read CSV and output to dataframe\n",
    "cities_df = pd.read_csv(\"output_data/cities.csv\")\n",
    "cities_df.head()"
   ]
  },
  {
   "cell_type": "markdown",
   "metadata": {},
   "source": [
    "### Plotting the Data\n",
    "* Use proper labeling of the plots using plot titles (including date of analysis) and axes labels.\n",
    "* Save the plotted figures as .pngs."
   ]
  },
  {
   "cell_type": "markdown",
   "metadata": {},
   "source": [
    "#### Latitude vs. Temperature Plot"
   ]
  },
  {
   "cell_type": "code",
   "execution_count": null,
   "metadata": {},
   "outputs": [],
   "source": [
    "# Scatterplot: Latituded vs. Max Temperature\n",
    "cities_df.plot(kind=\"scatter\", \n",
    "               x=\"Latitude\", \n",
    "               y=\"Max Temperature\", \n",
    "               grid=True, \n",
    "               figsize=(20,10),\n",
    "               title=\"Latitude vs Max Temperature\")\n",
    "\n",
    "plt.savefig('output_data/latitude_temperature.png')\n",
    "plt.show()"
   ]
  },
  {
   "cell_type": "markdown",
   "metadata": {},
   "source": [
    "#### Latitude vs. Humidity Plot"
   ]
  },
  {
   "cell_type": "code",
   "execution_count": null,
   "metadata": {},
   "outputs": [],
   "source": [
    "# Scatterplot: Latituded vs. Humidity\n",
    "cities_df.plot(kind=\"scatter\", \n",
    "               x=\"Latitude\", \n",
    "               y=\"Humidity\", \n",
    "               grid=True, \n",
    "               figsize=(20,10),\n",
    "               title=\"Latitude vs Humidity\")\n",
    "\n",
    "plt.savefig('output_data/latitude_huidity.png')\n",
    "plt.show()"
   ]
  },
  {
   "cell_type": "markdown",
   "metadata": {},
   "source": [
    "#### Latitude vs. Cloudiness Plot"
   ]
  },
  {
   "cell_type": "code",
   "execution_count": null,
   "metadata": {},
   "outputs": [],
   "source": [
    "# Scatterplot: Latituded vs. Cloudiness\n",
    "cities_df.plot(kind=\"scatter\", \n",
    "               x=\"Latitude\", \n",
    "               y=\"Cloudiness\", \n",
    "               grid=True, \n",
    "               figsize=(20,10),\n",
    "               title=\"Latitude vs Cloudiness\")\n",
    "\n",
    "plt.savefig('output_data/latitude_cloudiness.png')\n",
    "plt.show()"
   ]
  },
  {
   "cell_type": "markdown",
   "metadata": {},
   "source": [
    "#### Latitude vs. Wind Speed Plot"
   ]
  },
  {
   "cell_type": "code",
   "execution_count": null,
   "metadata": {},
   "outputs": [],
   "source": [
    "# Scatterplot: Latituded vs. Wind Speed\n",
    "cities_df.plot(kind=\"scatter\", \n",
    "               x=\"Latitude\", \n",
    "               y=\"Wind Speed\", \n",
    "               grid=True, \n",
    "               figsize=(20,10),\n",
    "               title=\"Latitude vs Wind Speed\")\n",
    "\n",
    "plt.savefig('output_data/latitude_windspeed.png')\n",
    "plt.show()"
   ]
  }
 ],
 "metadata": {
  "anaconda-cloud": {},
  "kernelspec": {
   "display_name": "Python 3",
   "language": "python",
   "name": "python3"
  },
  "language_info": {
   "codemirror_mode": {
    "name": "ipython",
    "version": 3
   },
   "file_extension": ".py",
   "mimetype": "text/x-python",
   "name": "python",
   "nbconvert_exporter": "python",
   "pygments_lexer": "ipython3",
   "version": "3.6.5"
  }
 },
 "nbformat": 4,
 "nbformat_minor": 2
}
